{
 "cells": [
  {
   "cell_type": "markdown",
   "metadata": {},
   "source": [
    "# Calling code as it's called from the command line. When you have to.\n",
    "\n",
    "Ideally, compiled code you use will have Python _wrappers_, so that you can import Python modules and get the benefits of the compiled code, from Python, with values passed back in Python format, etc; this is exactly what you're getting with `numpy`, for example. Not all code has such wrappers, though, and although writing them yourself is a great idea--that's what `libstempo` (installed for Python2 and Python3 on your container already!) is for `TEMPO2`--sometimes you don't have time. In those cases, you can use Python to call the code as if you'd written out the instructions on the command line, instead of in your code.\n",
    "\n",
    "`presto`, the very popular pulsar-searching package, does actually have `Python2` wrappers, but here we're going to call it as if from the command line (this is what a lot of PALFA processing did, for example) to demonstrate how you can use the Python `subprocess` module to call code as if from the command line."
   ]
  },
  {
   "cell_type": "code",
   "execution_count": 1,
   "metadata": {
    "collapsed": true
   },
   "outputs": [],
   "source": [
    "#Obviously, we need subprocess\n",
    "import subprocess"
   ]
  },
  {
   "cell_type": "code",
   "execution_count": 3,
   "metadata": {},
   "outputs": [
    {
     "name": "stdout",
     "output_type": "stream",
     "text": [
      "Basic_basics.ipynb\t\t     Numpy_and_you.ipynb\r\n",
      "Faking_it_at_the_command_line.ipynb  piccard\r\n",
      "Functions.ipynb\t\t\t     puppi_57166_J1404+12_1326_subs_0001.fits\r\n",
      "getting_stuff_done.ipynb\t     Python2_and_Python3_Some__future__.ipynb\r\n",
      "Loops_ifs_files.ipynb\t\t     some_pulsars.txt\r\n"
     ]
    }
   ],
   "source": [
    "#This isn't Python, we're getting a list of what's in our directory with a Jupyter directive\n",
    "!ls"
   ]
  },
  {
   "cell_type": "markdown",
   "metadata": {},
   "source": [
    "## Let's plot ourselves a pulsar\n",
    "\n",
    "Here we're going to create a plot of pulsar `J1404+12`"
   ]
  },
  {
   "cell_type": "code",
   "execution_count": 4,
   "metadata": {
    "collapsed": true
   },
   "outputs": [],
   "source": [
    "#Back to Python, we're setting the filename, which you can see in the list above.\n",
    "filename = 'puppi_57166_J1404+12_1326_subs_0001.fits'"
   ]
  },
  {
   "cell_type": "code",
   "execution_count": 6,
   "metadata": {},
   "outputs": [
    {
     "name": "stdout",
     "output_type": "stream",
     "text": [
      "Help on class Popen in module subprocess:\n",
      "\n",
      "class Popen(builtins.object)\n",
      " |  Execute a child program in a new process.\n",
      " |  \n",
      " |  For a complete description of the arguments see the Python documentation.\n",
      " |  \n",
      " |  Arguments:\n",
      " |    args: A string, or a sequence of program arguments.\n",
      " |  \n",
      " |    bufsize: supplied as the buffering argument to the open() function when\n",
      " |        creating the stdin/stdout/stderr pipe file objects\n",
      " |  \n",
      " |    executable: A replacement program to execute.\n",
      " |  \n",
      " |    stdin, stdout and stderr: These specify the executed programs' standard\n",
      " |        input, standard output and standard error file handles, respectively.\n",
      " |  \n",
      " |    preexec_fn: (POSIX only) An object to be called in the child process\n",
      " |        just before the child is executed.\n",
      " |  \n",
      " |    close_fds: Controls closing or inheriting of file descriptors.\n",
      " |  \n",
      " |    shell: If true, the command will be executed through the shell.\n",
      " |  \n",
      " |    cwd: Sets the current directory before the child is executed.\n",
      " |  \n",
      " |    env: Defines the environment variables for the new process.\n",
      " |  \n",
      " |    universal_newlines: If true, use universal line endings for file\n",
      " |        objects stdin, stdout and stderr.\n",
      " |  \n",
      " |    startupinfo and creationflags (Windows only)\n",
      " |  \n",
      " |    restore_signals (POSIX only)\n",
      " |  \n",
      " |    start_new_session (POSIX only)\n",
      " |  \n",
      " |    pass_fds (POSIX only)\n",
      " |  \n",
      " |    encoding and errors: Text mode encoding and error handling to use for\n",
      " |        file objects stdin, stdout and stderr.\n",
      " |  \n",
      " |  Attributes:\n",
      " |      stdin, stdout, stderr, pid, returncode\n",
      " |  \n",
      " |  Methods defined here:\n",
      " |  \n",
      " |  __del__(self, _maxsize=9223372036854775807, _warn=<built-in function warn>)\n",
      " |  \n",
      " |  __enter__(self)\n",
      " |  \n",
      " |  __exit__(self, type, value, traceback)\n",
      " |  \n",
      " |  __init__(self, args, bufsize=-1, executable=None, stdin=None, stdout=None, stderr=None, preexec_fn=None, close_fds=<object object at 0x7fb42c81e150>, shell=False, cwd=None, env=None, universal_newlines=False, startupinfo=None, creationflags=0, restore_signals=True, start_new_session=False, pass_fds=(), *, encoding=None, errors=None)\n",
      " |      Create new Popen instance.\n",
      " |  \n",
      " |  communicate(self, input=None, timeout=None)\n",
      " |      Interact with process: Send data to stdin.  Read data from\n",
      " |      stdout and stderr, until end-of-file is reached.  Wait for\n",
      " |      process to terminate.\n",
      " |      \n",
      " |      The optional \"input\" argument should be data to be sent to the\n",
      " |      child process (if self.universal_newlines is True, this should\n",
      " |      be a string; if it is False, \"input\" should be bytes), or\n",
      " |      None, if no data should be sent to the child.\n",
      " |      \n",
      " |      communicate() returns a tuple (stdout, stderr).  These will be\n",
      " |      bytes or, if self.universal_newlines was True, a string.\n",
      " |  \n",
      " |  kill(self)\n",
      " |      Kill the process with SIGKILL\n",
      " |  \n",
      " |  poll(self)\n",
      " |      Check if child process has terminated. Set and return returncode\n",
      " |      attribute.\n",
      " |  \n",
      " |  send_signal(self, sig)\n",
      " |      Send a signal to the process.\n",
      " |  \n",
      " |  terminate(self)\n",
      " |      Terminate the process with SIGTERM\n",
      " |  \n",
      " |  wait(self, timeout=None, endtime=None)\n",
      " |      Wait for child process to terminate.  Returns returncode\n",
      " |      attribute.\n",
      " |  \n",
      " |  ----------------------------------------------------------------------\n",
      " |  Data descriptors defined here:\n",
      " |  \n",
      " |  __dict__\n",
      " |      dictionary for instance variables (if defined)\n",
      " |  \n",
      " |  __weakref__\n",
      " |      list of weak references to the object (if defined)\n",
      "\n"
     ]
    }
   ],
   "source": [
    "#We're going to use the Popen functionality in subprocess. You can read some basic documentation with this command\n",
    "help(subprocess.Popen)\n"
   ]
  },
  {
   "cell_type": "code",
   "execution_count": 7,
   "metadata": {
    "collapsed": true
   },
   "outputs": [],
   "source": [
    "#Here, we're setting it up to call prepfold from the presto quite to produce output\n",
    "#from the pulsar in that file with a period of ~2.65s and dm of 18.836\n",
    "#You can look at presto documentation on Github to see what it all means\n",
    "\n",
    "p = subprocess.Popen(['prepfold',filename,'-p','2.650585','-dm','18.836','-npart','8','-nsub','128','-noxwin'],stdout=subprocess.PIPE,stderr=subprocess.PIPE)"
   ]
  },
  {
   "cell_type": "code",
   "execution_count": 8,
   "metadata": {
    "collapsed": true
   },
   "outputs": [],
   "source": [
    "out, err = p.communicate()"
   ]
  },
  {
   "cell_type": "code",
   "execution_count": 10,
   "metadata": {},
   "outputs": [
    {
     "name": "stdout",
     "output_type": "stream",
     "text": [
      "Basic_basics.ipynb\r\n",
      "Faking_it_at_the_command_line.ipynb\r\n",
      "Functions.ipynb\r\n",
      "getting_stuff_done.ipynb\r\n",
      "Loops_ifs_files.ipynb\r\n",
      "Numpy_and_you.ipynb\r\n",
      "piccard\r\n",
      "puppi_57166_J1404+12_1326_subs_0001_2650.59ms_Cand.pfd\r\n",
      "puppi_57166_J1404+12_1326_subs_0001_2650.59ms_Cand.pfd.bestprof\r\n",
      "puppi_57166_J1404+12_1326_subs_0001_2650.59ms_Cand.pfd.ps\r\n",
      "puppi_57166_J1404+12_1326_subs_0001.fits\r\n",
      "Python2_and_Python3_Some__future__.ipynb\r\n",
      "some_pulsars.txt\r\n"
     ]
    }
   ],
   "source": [
    "#Let's see if anything's changed!\n",
    "!ls"
   ]
  },
  {
   "cell_type": "markdown",
   "metadata": {},
   "source": [
    "## Did it work?\n",
    "\n",
    "What you see here are four files produced by `prepfold`. You have `imagemagick` installed on the container, so if you ensure you have an Xserver running on your laptop (`Vcxsrv` or `Xming` for Windows, say, or `XQuartz` for OSX) you can run:\n",
    "\n",
    "`ssh -Y -p 2222 jovyan@localhost`\n",
    "\n",
    "to get into the container with X-forwarding, and you can then just run this to get a display of the postscript file:\n",
    "\n",
    "`display -flatten puppi_57166_J1404+12_1326_subs_0001_2650.59ms_Cand.pfd.ps &`\n",
    "\n",
    "Now you can see the pulsar in all its glory!"
   ]
  },
  {
   "cell_type": "markdown",
   "metadata": {},
   "source": [
    "## Let's look inside the file\n",
    "\n",
    "Here we use `presto`'s readfile."
   ]
  },
  {
   "cell_type": "code",
   "execution_count": 11,
   "metadata": {},
   "outputs": [
    {
     "name": "stdout",
     "output_type": "stream",
     "text": [
      "Frequency=327.0\n"
     ]
    }
   ],
   "source": [
    "p = subprocess.Popen(['readfile',filename],stdout=subprocess.PIPE,stderr=subprocess.PIPE)\n",
    "out, err = p.communicate()\n",
    "#a b before a string indicates, in Python3, byte literals\n",
    "result = out.split(b\"\\n\")\n",
    "for res in result:\n",
    "    if b\"Central freq\" in res:\n",
    "        freq = res.split(b\"=\")[1].strip()\n",
    "        print(\"Frequency=%0.1f\" % float(freq))"
   ]
  },
  {
   "cell_type": "code",
   "execution_count": null,
   "metadata": {
    "collapsed": true
   },
   "outputs": [],
   "source": []
  }
 ],
 "metadata": {
  "kernelspec": {
   "display_name": "Python 3",
   "language": "python",
   "name": "python3"
  },
  "language_info": {
   "codemirror_mode": {
    "name": "ipython",
    "version": 3
   },
   "file_extension": ".py",
   "mimetype": "text/x-python",
   "name": "python",
   "nbconvert_exporter": "python",
   "pygments_lexer": "ipython3",
   "version": "3.6.2"
  }
 },
 "nbformat": 4,
 "nbformat_minor": 2
}
