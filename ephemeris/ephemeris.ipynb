{
 "cells": [
  {
   "cell_type": "markdown",
   "metadata": {},
   "source": [
    "# Exploring the Solar System Ephemeris\n",
    "\n",
    "### Sarah Vigeland, June 14, 2018"
   ]
  },
  {
   "cell_type": "markdown",
   "metadata": {},
   "source": [
    "In this notebook we are going to look at the differences between the ephemerides in terms of the planets' orbits. We are also going to look at the differences in the Roemer delay computed using different ephemerides."
   ]
  },
  {
   "cell_type": "markdown",
   "metadata": {},
   "source": [
    "### Load modules"
   ]
  },
  {
   "cell_type": "code",
   "execution_count": null,
   "metadata": {
    "collapsed": true
   },
   "outputs": [],
   "source": [
    "%matplotlib inline\n",
    "%config InlineBackend.figure_format = 'retina'\n",
    "\n",
    "from __future__ import print_function\n",
    "import sys, math\n",
    "\n",
    "import libstempo as LT\n",
    "from jplephem.spk import SPK\n",
    "import numpy as np\n",
    "import matplotlib.pyplot as plt"
   ]
  },
  {
   "cell_type": "markdown",
   "metadata": {},
   "source": [
    "### Part 1: What's the difference between the different ephemerides?"
   ]
  },
  {
   "cell_type": "markdown",
   "metadata": {},
   "source": [
    "The Solar System Ephemeris (SSE) is a model that describes the positions of the Sun, planets, major moons, and asteroids. In pulsar timing, we use the SSE to figure out the location of the Solar System barycenter (SSB)."
   ]
  },
  {
   "cell_type": "markdown",
   "metadata": {},
   "source": [
    "Let's load in the two most recent JPL ephemerides: DE435 and DE436."
   ]
  },
  {
   "cell_type": "code",
   "execution_count": null,
   "metadata": {},
   "outputs": [],
   "source": [
    "ephemdir = '/opt/pulsar/share/tempo2/ephemeris/'\n",
    "\n",
    "# This will read in the orbits contained in the .bsp file. The SSB is item 0, and planets are 1-9.\n",
    "bsp435 = SPK.open(ephemdir + 'de435t.bsp')\n",
    "bsp436 = SPK.open(ephemdir + 'de436t.bsp')\n",
    "print(bsp435)"
   ]
  },
  {
   "cell_type": "markdown",
   "metadata": {},
   "source": [
    "This function will read in the ephemeris file and return an array containing the orbit of a given planet."
   ]
  },
  {
   "cell_type": "code",
   "execution_count": null,
   "metadata": {
    "collapsed": true
   },
   "outputs": [],
   "source": [
    "def getplanet(efile,i,jdates):\n",
    "    \"\"\"Return a len(jdates) x 3 numpy array of the orbit for planet i,\n",
    "    following the ephemeris file numbering (3 is Earth, 10 is Sun).\n",
    "    Special cases: 310 is Sun to Earth, 399 is Earth bary + nutation.\n",
    "    The array is of x,y,z equatorial coordinates in km.\"\"\"\n",
    "    \n",
    "    bsp = SPK.open(efile)\n",
    "    \n",
    "    if i == 399:\n",
    "        return (bsp[0,3].compute(jdates).T + bsp[3,399].compute(jdates).T)\n",
    "    elif i == 310:\n",
    "        return (bsp[0,3].compute(jdates).T - bsp[0,10].compute(jdates).T)\n",
    "    else:\n",
    "        return bsp[0,i].compute(jdates).T"
   ]
  },
  {
   "cell_type": "markdown",
   "metadata": {},
   "source": [
    "The function I have given you gives the orbit in rectangular coordinates (x,y,z), but it would be more convenient to have it in spherical coordinates. Write a function that converts it from rectangular coordinates to spherical."
   ]
  },
  {
   "cell_type": "code",
   "execution_count": null,
   "metadata": {
    "collapsed": true
   },
   "outputs": [],
   "source": []
  },
  {
   "cell_type": "markdown",
   "metadata": {},
   "source": [
    "Now use the function I gave you and the function you wrote to plot the position of Jupiter using DE436 over a time span of about 20 years.\n",
    "\n",
    "Notice that the ephemerides use the time in Julian date, not modified Julian date.\n",
    "They are related by jd = mjd + 2400000.5.\n",
    "\n",
    "In case you are wondering, today's MJD is 58283."
   ]
  },
  {
   "cell_type": "code",
   "execution_count": null,
   "metadata": {
    "collapsed": true
   },
   "outputs": [],
   "source": []
  },
  {
   "cell_type": "code",
   "execution_count": null,
   "metadata": {},
   "outputs": [],
   "source": []
  },
  {
   "cell_type": "markdown",
   "metadata": {},
   "source": [
    "But what we really care about is the difference between two different ephemerides.\n",
    "\n",
    "Do the same thing as above, but this time use DE435 as the ephemeris. Plot the difference in the orbit of Jupiter between DE435 and DE436."
   ]
  },
  {
   "cell_type": "code",
   "execution_count": null,
   "metadata": {},
   "outputs": [],
   "source": []
  },
  {
   "cell_type": "code",
   "execution_count": null,
   "metadata": {
    "collapsed": true
   },
   "outputs": [],
   "source": []
  },
  {
   "cell_type": "markdown",
   "metadata": {},
   "source": [
    "Now let's look at how the position of the Earth with respect to the SSB varies with ephemeris."
   ]
  },
  {
   "cell_type": "code",
   "execution_count": null,
   "metadata": {},
   "outputs": [],
   "source": []
  },
  {
   "cell_type": "markdown",
   "metadata": {},
   "source": [
    "Finally, let's convert the change in orbital radius from km to s."
   ]
  },
  {
   "cell_type": "code",
   "execution_count": null,
   "metadata": {},
   "outputs": [],
   "source": []
  },
  {
   "cell_type": "markdown",
   "metadata": {},
   "source": [
    "### Part 2: Roemer delay differences in pulsars"
   ]
  },
  {
   "cell_type": "markdown",
   "metadata": {},
   "source": [
    "Now let's take a look at the Roemer delay for an actual pulsar under different ephemerides.\n",
    "\n",
    "Load up the par and tim files for a pulsar (I have given you three in the partim directory). You can specify the ephemeris with the option `ephem='EPHEM'`. Use all four of the most recent ephemerides (DE421, DE430, DE435, and DE436)."
   ]
  },
  {
   "cell_type": "code",
   "execution_count": null,
   "metadata": {
    "collapsed": true
   },
   "outputs": [],
   "source": []
  },
  {
   "cell_type": "code",
   "execution_count": null,
   "metadata": {
    "collapsed": true
   },
   "outputs": [],
   "source": []
  },
  {
   "cell_type": "markdown",
   "metadata": {},
   "source": [
    "You can get the Roemer delay for a pulsar with `psr.roemer`. It will return an array of the Roemer delay in seconds at each observation.\n",
    "\n",
    "First, plot the Roemer delay for this pulsar using DE436."
   ]
  },
  {
   "cell_type": "code",
   "execution_count": null,
   "metadata": {},
   "outputs": [],
   "source": []
  },
  {
   "cell_type": "markdown",
   "metadata": {},
   "source": [
    "Next, plot the differences between different ephemerides."
   ]
  },
  {
   "cell_type": "code",
   "execution_count": null,
   "metadata": {},
   "outputs": [],
   "source": []
  },
  {
   "cell_type": "markdown",
   "metadata": {
    "collapsed": true
   },
   "source": [
    "If you finish, repeat for some of the other pulsars. You will see that the amplitude of the Roemer delay varies depending on the ecliptic coordinates."
   ]
  },
  {
   "cell_type": "code",
   "execution_count": null,
   "metadata": {
    "collapsed": true
   },
   "outputs": [],
   "source": []
  }
 ],
 "metadata": {
  "kernelspec": {
   "display_name": "Python 2",
   "language": "python",
   "name": "python2"
  },
  "language_info": {
   "codemirror_mode": {
    "name": "ipython",
    "version": 2
   },
   "file_extension": ".py",
   "mimetype": "text/x-python",
   "name": "python",
   "nbconvert_exporter": "python",
   "pygments_lexer": "ipython2",
   "version": "2.7.13"
  }
 },
 "nbformat": 4,
 "nbformat_minor": 2
}
