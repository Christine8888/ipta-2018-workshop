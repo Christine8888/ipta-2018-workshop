{
 "cells": [
  {
   "cell_type": "markdown",
   "metadata": {},
   "source": [
    "# The Hunt for Continuous Waves\n",
    "## Originally developed by Michael Lam, subverted by Jeff Hazboun"
   ]
  },
  {
   "cell_type": "code",
   "execution_count": 28,
   "metadata": {},
   "outputs": [],
   "source": [
    "# Useful imports\n",
    "#needed on home laptop:\n",
    "from __future__ import division, print_function\n",
    "%matplotlib inline \n",
    "import numpy as np\n",
    "from matplotlib.pyplot import *\n",
    "from matplotlib import pyplot as plt\n",
    "import libstempo as T\n",
    "import libstempo.toasim as LT\n",
    "import libstempo.plot as LP\n"
   ]
  },
  {
   "cell_type": "code",
   "execution_count": 29,
   "metadata": {
    "collapsed": true
   },
   "outputs": [],
   "source": [
    "#The following function is used to make fake pulsars. It needs the astropy SkyCoord module. \n",
    "from astropy.coordinates import SkyCoord\n",
    "\n",
    "def make_fake_pulsar(DIR=\"\"):\n",
    "    '''\n",
    "    Makes a fake pulsar par file\n",
    "    '''\n",
    "    output = \"MODE 1\\n\"\n",
    "    \n",
    "    # Sphere Point Picking\n",
    "    u = np.random.uniform()\n",
    "    v = np.random.uniform()\n",
    "    phi = 2*np.pi*u #using standard physics notation\n",
    "    theta = np.arccos(2*v-1) - np.pi/2\n",
    "\n",
    "    c = SkyCoord(phi,theta,frame='icrs',unit='rad')\n",
    "    cstr = c.to_string('hmsdms')\n",
    "    #print cstr\n",
    "    RAJ = cstr.split(\" \")[0].replace(\"h\",\":\").replace(\"m\",\":\")[:-1]\n",
    "    DECJ = cstr.split(\" \")[1].replace(\"d\",\":\").replace(\"m\",\":\")[:-1]\n",
    "    cstr = cstr.replace(\" \",\"\")\n",
    "    name = \"J\"+RAJ[0:2]+RAJ[3:5]+DECJ[0]+DECJ[1:3]+DECJ[4:6]\n",
    "\n",
    "    output += \"PSR      %s\\n\"%name\n",
    "\n",
    "    \n",
    "    output += \"PEPOCH   50000.0\\n\"    \n",
    "    output += \"POSEPOCH   50000.0\\n\"\n",
    "\n",
    "    period = 0.001*np.random.uniform(1,10) #seconds\n",
    "    output += \"F0       %0.10f 1\\n\"%(1.0/period)\n",
    "\n",
    "    output += \"RAJ      %s 1\\n\"%RAJ\n",
    "    output += \"DECJ     %s 1\\n\"%DECJ\n",
    "\n",
    "    dist = np.random.uniform(0.1,5) #kpc\n",
    "    output += \"PX       %0.5f 1\\n\"%(1.0/dist)\n",
    "\n",
    "    filename = \"%s%s.par\"%(DIR,name)\n",
    "    with open(filename,'w') as FILE:\n",
    "        FILE.write(output)\n",
    "\n",
    "    return filename.encode('ascii','ignore')"
   ]
  },
  {
   "cell_type": "markdown",
   "metadata": {},
   "source": [
    "## Introduction\n",
    "\n",
    "Gravitational wave (GW) signals come in many different forms. In this exercise, we will focus on the \"simplest\" type: continuous gravitational waves from two inspiralling supermassive black holes. You will \"observe\" an array of pulsars and then run gravitational wave detection codes in order to infer properties about the system. This exercise is intended for more advanced students interested in learning both libstempo and PAL2."
   ]
  },
  {
   "cell_type": "markdown",
   "metadata": {},
   "source": [
    "## Observing Your Pulsar Timing Array\n",
    "\n",
    "We have written a function for you to make a fake pulsar uniformly distributed across the sky. It takes a directory location (so you have your own workspace) and returns the location of the par file, which will be needed later. You can make as many as you'd like but we suggest making at least three, as below. Feel free to add more as you like, and you can certainly use loops if copying the code becomes to unwieldy!"
   ]
  },
  {
   "cell_type": "code",
   "execution_count": 30,
   "metadata": {},
   "outputs": [
    {
     "name": "stdout",
     "output_type": "stream",
     "text": [
      "J2304+3108.par J0045-0455.par J2132+3150.par\n"
     ]
    }
   ],
   "source": [
    "par1 = make_fake_pulsar()\n",
    "par2 = make_fake_pulsar()\n",
    "par3 = make_fake_pulsar()\n",
    "print(par1, par2, par3)"
   ]
  },
  {
   "cell_type": "code",
   "execution_count": null,
   "metadata": {
    "collapsed": true
   },
   "outputs": [],
   "source": [
    "psr1 = LT.fakepulsar(par1,obstimes=t,toaerr=3,iters=7)"
   ]
  },
  {
   "cell_type": "markdown",
   "metadata": {},
   "source": [
    "We provide a function below that takes the location of a pulsar parameter file and then pretends to observe the pulsar, also adding in a continuous wave coming from the Virgo Cluster. It returns a libstempo tempopulsar object and you can plot the residuals using `LP.plotres()`. By default, the gravitational wave strain is very large, just so you have some practice finding a strong signal."
   ]
  },
  {
   "cell_type": "code",
   "execution_count": 31,
   "metadata": {},
   "outputs": [],
   "source": [
    "def observe(par, noise=0.5, mass=5e9, fgw=1e-8):\n",
    "    ''' Noise in microseconds, mass in solar masses'''\n",
    "    t = np.arange(53000,56650,30.0) #observing dates for 10 years\n",
    "    t += np.random.randn(len(t)) #observe every 30+/-1 days\n",
    "    psr = LT.fakepulsar(parfile=par,\n",
    "                        obstimes=t,\n",
    "                        toaerr=noise)\n",
    "    LT.add_equad(psr,equad=noise*1e-6,seed=42)\n",
    "    # Virgo cluster: 12h27m +12d43'\n",
    "    LT.add_cgw(psr, gwtheta=(12+43.0/60)*np.pi/180, gwphi=(12*15+27.0/60)*np.pi/180, mc=mass, dist=15, fgw=fgw, phase0=0, psi=0, inc=0, pdist=1.0,\n",
    "               pphase=None, psrTerm=True, evolve=True,\n",
    "               phase_approx=False, tref=0)\n",
    "    psr.savetim('%s.tim'%par.split('.')[0])\n",
    "    return psr\n",
    "#print (12+43.0/60)*np.pi/180,(12*15+27.0/60)*np.pi/180 #perhaps useful for reading enterprise output"
   ]
  },
  {
   "cell_type": "markdown",
   "metadata": {},
   "source": [
    "Use the function above and libstempo (read the docs!) to observe your pulsars and plot the residuals to see what they look like. Add more cells as necessary."
   ]
  },
  {
   "cell_type": "code",
   "execution_count": 32,
   "metadata": {},
   "outputs": [
    {
     "data": {
      "text/plain": [
       "'\\nfig1 = plt.figure(2, figsize=(10,10))\\nax1, ax2, ax3 = fig1.add_subplot(311), fig1.add_subplot(312), fig1.add_subplot(313)\\nax1.plot()\\n'"
      ]
     },
     "execution_count": 32,
     "metadata": {},
     "output_type": "execute_result"
    },
    {
     "data": {
      "image/png": "[encoded data removed]",
      "text/plain": [
       "<matplotlib.figure.Figure at 0x7f315bf3fe90>"
      ]
     },
     "metadata": {},
     "output_type": "display_data"
    }
   ],
   "source": [
    "tobj1, tobj2, tobj3 = observe(par1), observe(par2),observe(par3)\n",
    "LP.plotres(tobj3)\n",
    "\"\"\"\n",
    "fig1 = plt.figure(2, figsize=(10,10))\n",
    "ax1, ax2, ax3 = fig1.add_subplot(311), fig1.add_subplot(312), fig1.add_subplot(313)\n",
    "ax1.plot()\n",
    "\"\"\""
   ]
  },
  {
   "cell_type": "code",
   "execution_count": 33,
   "metadata": {},
   "outputs": [
    {
     "data": {
      "text/plain": [
       "(array([ -1.18620370e-05,   6.04276721e+00,   5.43667635e-01,\n",
       "          1.27244902e+02,   3.42806040e-01]),\n",
       " array([  2.45214065e-07,   1.83291167e-10,   2.13457213e-10,\n",
       "          6.32936992e-14,   1.53382715e-01]),\n",
       " array([[  6.01299375e-14,  -3.44041417e-19,   3.86191144e-18,\n",
       "           1.31816772e-20,  -1.89599031e-08],\n",
       "        [ -3.44041417e-19,   3.35956520e-20,  -1.77770014e-20,\n",
       "          -4.78704882e-25,  -1.72907735e-12],\n",
       "        [  3.86191144e-18,  -1.77770014e-20,   4.55639819e-20,\n",
       "           1.00277319e-24,  -9.27230710e-13],\n",
       "        [  1.31816772e-20,  -4.78704882e-25,   1.00277319e-24,\n",
       "           4.00609236e-27,  -1.09678870e-16],\n",
       "        [ -1.89599031e-08,  -1.72907735e-12,  -9.27230710e-13,\n",
       "          -1.09678870e-16,   2.35262572e-02]]),\n",
       " 12190.07403054813705)"
      ]
     },
     "execution_count": 33,
     "metadata": {},
     "output_type": "execute_result"
    }
   ],
   "source": [
    "tobj1.fit()"
   ]
  },
  {
   "cell_type": "code",
   "execution_count": null,
   "metadata": {
    "collapsed": true
   },
   "outputs": [],
   "source": []
  },
  {
   "cell_type": "markdown",
   "metadata": {},
   "source": [
    "## Approximate Gravitational Wave Strain\n",
    "\n",
    "We can estimate the GW strain rather trivially from the timing perturbations. Conveniently, the root-mean-square (RMS) residuals are provided at the top of the libstempo plots. The strain $h \\sim \\Delta L/L$ is the fractional change in distance towards our pulsars. Therefore, we have\n",
    "\n",
    "$$\n",
    "\\begin{eqnarray}\n",
    "\\Delta L & \\sim & hL \\sim hcT \\\\\n",
    "& \\approx & 9.5~\\mathrm{m}~\\left(\\frac{h}{10^{-16}}\\right)\\left(\\frac{T}{10~\\mathrm{yr}}\\right),\n",
    "\\end{eqnarray}\n",
    "$$\n",
    "where $L\\sim cT$ is the length scale form the light/GW travel time. The timing precision is then simply\n",
    "$$\n",
    "\\begin{eqnarray}\n",
    "\\Delta t & \\sim & \\frac{\\Delta L}{c} \\sim hT \\\\\n",
    "& \\approx & 32~\\mathrm{ns}~\\left(\\frac{h}{10^{-16}}\\right)\\left(\\frac{T}{10~\\mathrm{yr}}\\right).\n",
    "\\end{eqnarray}\n",
    "$$\n",
    "\n",
    "Using the RMS as the timing perturbation scale, what is your estimate of the GW strain?\n"
   ]
  },
  {
   "cell_type": "code",
   "execution_count": null,
   "metadata": {},
   "outputs": [],
   "source": [
    "# Some space for you to work\n",
    "# Assuming T = 10yrs\n",
    "def spittime(rms):\n",
    "    h = (rms/(32*10**-3))*10**16\n",
    "    return h\n",
    "\n",
    "print(spittime(8.82))"
   ]
  },
  {
   "cell_type": "code",
   "execution_count": null,
   "metadata": {
    "collapsed": true
   },
   "outputs": [],
   "source": []
  },
  {
   "cell_type": "markdown",
   "metadata": {},
   "source": [
    "Note that white noise has been added to the pulse arrival times, which itself will increase the observed RMS but not result from the changing GW strain. If you remove the contribution (recall that errors add and subtract quadratically!) from white noise, what is your updated estimate of the GW strain?"
   ]
  },
  {
   "cell_type": "code",
   "execution_count": null,
   "metadata": {
    "collapsed": true
   },
   "outputs": [],
   "source": [
    "# Some space for you to work"
   ]
  },
  {
   "cell_type": "code",
   "execution_count": null,
   "metadata": {
    "collapsed": true
   },
   "outputs": [],
   "source": [
    "# sp = (so**2 - n**2)**0.5"
   ]
  },
  {
   "cell_type": "code",
   "execution_count": null,
   "metadata": {
    "collapsed": true
   },
   "outputs": [],
   "source": []
  },
  {
   "cell_type": "markdown",
   "metadata": {},
   "source": [
    "## Gravitational Wave Detection and Source Inference\n",
    "\n",
    "Now that you have observed your pulsars and crudely estimated the gravitational wave strain, it's time to do a fuller analysis using our gravitational wave detection codes. We start by importing enterprise and related packages, and then begin building our signal model"
   ]
  },
  {
   "cell_type": "code",
   "execution_count": null,
   "metadata": {},
   "outputs": [],
   "source": [
    "# More imports for GW detection codes\n",
    "#import sys\n",
    "# Enterprise\n",
    "#sys.path.append(\"/home/jovyan/work/shared/enterprise/\")\n",
    "from enterprise.pulsar import Pulsar\n",
    "import enterprise.signals.parameter as parameter\n",
    "from enterprise.signals import utils\n",
    "from enterprise.signals import signal_base\n",
    "from enterprise.signals import selections\n",
    "from enterprise.signals.selections import Selection\n",
    "from enterprise.signals import white_signals\n",
    "from enterprise.signals import gp_signals\n",
    "import corner\n",
    "import enterprise_cw_funcs as fns\n",
    "from PTMCMCSampler.PTMCMCSampler import PTSampler as ptmcmc\n",
    "import subprocess"
   ]
  },
  {
   "cell_type": "code",
   "execution_count": null,
   "metadata": {},
   "outputs": [],
   "source": [
    "# Create enterprise Pulsar objects for each of your pulsars. You can make Pulsar objects with\n",
    "psr = Pulsar(\"J1910+4909.par\", \"J1910+4909.tim\", ephem=\"DE436\", timing_code=\"tempo2\")\n"
   ]
  },
  {
   "cell_type": "code",
   "execution_count": null,
   "metadata": {},
   "outputs": [],
   "source": [
    "# Here you should append your pulsar objects to this list for use by the model later\n",
    "\n",
    "psrs = []"
   ]
  },
  {
   "cell_type": "markdown",
   "metadata": {},
   "source": [
    "Set up the signals"
   ]
  },
  {
   "cell_type": "code",
   "execution_count": null,
   "metadata": {
    "collapsed": true
   },
   "outputs": [],
   "source": [
    "# Create white noise parameter priors\n",
    "efac = parameter.Constant(1)\n",
    "equad = parameter.Uniform(-8.5,-5.0)\n",
    "\n",
    "##### Signals below #####\n",
    "\n",
    "# white noise parameters\n",
    "ef = white_signals.MeasurementNoise(efac=efac)\n",
    "eq = white_signals.EquadNoise(log10_equad=equad)\n",
    "\n",
    "# timing model\n",
    "tm = gp_signals.TimingModel()"
   ]
  },
  {
   "cell_type": "code",
   "execution_count": null,
   "metadata": {
    "collapsed": true
   },
   "outputs": [],
   "source": [
    "# continuous GW parameters\n",
    "# note that we are pre-initializing them with names here so that they will be shared\n",
    "# across all pulsars in the PTA\n",
    "\n",
    "# Our standard CW search looks for a GW with a specific frequency and we hold log10_fgw constant,\n",
    "# as commented below. However, we will do a search in frequency\n",
    "#freq = 8e-09\n",
    "\n",
    "cos_gwtheta = parameter.Uniform(-1, 1)('cos_gwtheta')\n",
    "gwphi = parameter.Uniform(0, 2*np.pi)('gwphi')\n",
    "log10_mc = parameter.Uniform(7, 10)('log10_mc')\n",
    "#log10_fgw = parameter.Constant(np.log10(freq))('log10_fgw')\n",
    "log10_fgw = parameter.Uniform(-10,-7)('log10_fgw')\n",
    "phase0 = parameter.Uniform(0, 2*np.pi)('phase0')\n",
    "psi = parameter.Uniform(0, np.pi)('psi')\n",
    "cos_inc = parameter.Uniform(-1, 1)('cos_inc')\n",
    "\n",
    "log10_h = parameter.LinearExp(-18, -11)('log10_h')\n",
    "\n",
    "# define CGW waveform and signal\n",
    "cw_wf = fns.cw_delay(cos_gwtheta=cos_gwtheta, gwphi=gwphi, log10_mc=log10_mc, \n",
    "                     log10_h=log10_h, log10_fgw=log10_fgw, phase0=phase0, \n",
    "                     psi=psi, cos_inc=cos_inc)\n",
    "cw = fns.CWSignal(cw_wf, inc_psr_term=True)"
   ]
  },
  {
   "cell_type": "code",
   "execution_count": null,
   "metadata": {
    "collapsed": true
   },
   "outputs": [],
   "source": [
    "# full signal\n",
    "s = ef + eq + tm + cw"
   ]
  },
  {
   "cell_type": "markdown",
   "metadata": {},
   "source": [
    "Here we will initialize our PTA and then prepare the sampler for running"
   ]
  },
  {
   "cell_type": "code",
   "execution_count": null,
   "metadata": {
    "collapsed": true
   },
   "outputs": [],
   "source": [
    "# initialize PTA\n",
    "model = [s(psr) for psr in psrs]\n",
    "pta = signal_base.PTA(model)\n",
    "\n",
    "# Prepare sampler initial condition\n",
    "x0 = np.hstack(p.sample() for p in pta.params)\n",
    "ndim = len(x0)\n",
    "\n",
    "# initial jump covariance matrix\n",
    "cov = np.diag(np.ones(ndim) * 0.1**2)\n",
    "\n",
    "# parameter groupings\n",
    "groups = fns.get_parameter_groups(pta)\n",
    "\n",
    "# define where you want to put the chains from the MCMC\n",
    "chaindir = 'chains/'\n",
    "\n",
    "# set up jump groups by red noise groups (need better way of doing this)\n",
    "sampler = ptmcmc(ndim, pta.get_lnlikelihood, pta.get_lnprior, cov, groups=groups, \n",
    "                 outDir=chaindir, resume=False)\n",
    "\n",
    "# write parameter file for convenience\n",
    "filename = chaindir + '/params.txt'\n",
    "np.savetxt(filename,list(map(str, pta.param_names)), fmt='%s')"
   ]
  },
  {
   "cell_type": "markdown",
   "metadata": {},
   "source": [
    "In order to get the sampler to explore parameter space efficiently, we need to define some custom jump proposals."
   ]
  },
  {
   "cell_type": "code",
   "execution_count": null,
   "metadata": {
    "collapsed": true
   },
   "outputs": [],
   "source": [
    "# add prior draws to proposal cycle\n",
    "jp = fns.JumpProposal(pta)\n",
    "sampler.addProposalToCycle(jp.draw_from_prior, 5)\n",
    "sampler.addProposalToCycle(jp.draw_from_cw_log_uniform_distribution, 10)"
   ]
  },
  {
   "cell_type": "markdown",
   "metadata": {},
   "source": [
    "The sampler runs here. Adjust the number of samples (N) as you see fit!"
   ]
  },
  {
   "cell_type": "code",
   "execution_count": null,
   "metadata": {},
   "outputs": [],
   "source": [
    "N = 100000\n",
    "sampler.sample(x0, N, SCAMweight=30, AMweight=15, DEweight=50)"
   ]
  },
  {
   "cell_type": "code",
   "execution_count": null,
   "metadata": {},
   "outputs": [],
   "source": [
    "# Load the MCMC chains and parameter names (if you need them)\n",
    "\n",
    "chain = np.loadtxt(chaindir + '/chain_1.txt')\n",
    "params = list(np.loadtxt(chaindir + '/params.txt', dtype='str'))\n",
    "\n",
    "# Value of burn-in to apply to the chains.\n",
    "burn = int(0.25*chain.shape[0])\n",
    "\n",
    "print(params)"
   ]
  },
  {
   "cell_type": "code",
   "execution_count": null,
   "metadata": {
    "collapsed": true
   },
   "outputs": [],
   "source": [
    "# Convenience function to help plot the marginalized parameter distributions\n",
    "def plot_param(name):\n",
    "    '''Given one of the CGW function names above, plot the distribution'''\n",
    "    hist(chain[burn:,params.index(name)], 50, normed=True, lw=2, color='C0', histtype='step')\n",
    "    if \"log10\" in name:\n",
    "        xlabel(r\"$\\log_{10} \\mathrm{%s}$\"%(name.split('_')[-1]))\n",
    "    else:\n",
    "        xlabel(name)"
   ]
  },
  {
   "cell_type": "code",
   "execution_count": null,
   "metadata": {
    "collapsed": true
   },
   "outputs": [],
   "source": [
    "# Plot the strain distribution here\n"
   ]
  },
  {
   "cell_type": "code",
   "execution_count": null,
   "metadata": {
    "collapsed": true
   },
   "outputs": [],
   "source": [
    "#Plot the mass distribution here\n"
   ]
  },
  {
   "cell_type": "markdown",
   "metadata": {},
   "source": []
  },
  {
   "cell_type": "code",
   "execution_count": null,
   "metadata": {
    "collapsed": true
   },
   "outputs": [],
   "source": [
    "# Plot the frequency distribution here\n"
   ]
  },
  {
   "cell_type": "code",
   "execution_count": null,
   "metadata": {
    "collapsed": true
   },
   "outputs": [],
   "source": [
    "# Some more space for you to work"
   ]
  },
  {
   "cell_type": "code",
   "execution_count": null,
   "metadata": {
    "collapsed": true
   },
   "outputs": [],
   "source": []
  },
  {
   "cell_type": "code",
   "execution_count": null,
   "metadata": {
    "collapsed": true
   },
   "outputs": [],
   "source": []
  },
  {
   "cell_type": "markdown",
   "metadata": {},
   "source": [
    "There may be some degeneracy with between the chirp mass (see below) and the distance. However, if we know that it is in the direction of a specific cluster, such as Virgo, then this additional information can then set a prior on what we know and help us constrain the system even better."
   ]
  },
  {
   "cell_type": "markdown",
   "metadata": {},
   "source": [
    "## The Orbital Separation\n",
    "\n",
    "As the two black holes have a large separation, we can assume the system is in the Newtonian limit and use the Keplerian orbital frequency to relate $\\Omega^2 = GM/a^3$, where $M$ is the total mass of the system and $a$ is the semi-major axis. The gravitational wave frequency is twice the orbital frequency, and so\n",
    "\n",
    "$$\n",
    "\\begin{eqnarray}\n",
    "f & = & 2\\left(\\frac{\\Omega}{2\\pi}\\right) \\\\\n",
    "& = &\\frac{1}{\\pi} \\left(\\frac{GM}{a^3}\\right)^{1/2} \\\\\n",
    "& \\approx & 200~\\mathrm{nHz}~\\left(\\frac{M}{10^8~M_\\odot}\\right)^{1/2} \\left(\\frac{a}{\\mathrm{mpc}}\\right)^{-3/2}\n",
    "\\end{eqnarray}\n",
    "$$\n",
    "\n",
    "For reference, the chirp mass for two equal mass black holes $m_1 = m_2 = M/2$ is\n",
    "\n",
    "$$\\mathcal{M}_c = \\frac{(m_1 m_2)^{3/5}}{(m_1+m_2)^{1/5}} = \\frac{(M/2)^{6/5}}{M^{1/5}} = 2^{-6/5} M \\approx 0.435 M.$$\n",
    "\n",
    "What is the separation of the system?\n"
   ]
  },
  {
   "cell_type": "code",
   "execution_count": null,
   "metadata": {
    "collapsed": true
   },
   "outputs": [],
   "source": [
    "# Some space for you to work"
   ]
  },
  {
   "cell_type": "code",
   "execution_count": null,
   "metadata": {
    "collapsed": true
   },
   "outputs": [],
   "source": []
  },
  {
   "cell_type": "code",
   "execution_count": null,
   "metadata": {
    "collapsed": true
   },
   "outputs": [],
   "source": []
  },
  {
   "cell_type": "markdown",
   "metadata": {},
   "source": [
    "## The Decay Timescale\n",
    "\n",
    "For a more general derivation, let's assume we have two masses $m_1$ and $m_2$, with total mass $M = m_1 + m_2$ and reduced mass $\\mu = m_1 m_2 /M$, in a circular orbit and separated by a semi-major axis $a$. From Peters (1964; Phys. Rev. 136, B1224), one can write down the change in the semi-major axis as\n",
    "\n",
    "$$\\frac{da}{dt} = -\\frac{64}{5} \\frac{G^3 \\mu M^2}{c^5 a^3}.$$\n",
    "\n",
    "The decay timescale is then \n",
    "\n",
    "$$t_{\\rm gw} = \\int_a^0 \\frac{dt}{da'} da' = \\int_0^a \\frac{5}{64} \\frac{c^5 a'^3}{G^3 \\mu M^2} da' = \\frac{5}{256} \\frac{c^5 a^4}{G^3 \\mu M^2}.$$\n",
    "\n",
    "We can write this expression in terms of a mass ratio $q \\equiv m_1/m_2 \\le 1$. It will be useful to substitute $M = m_1+m_2 = m_2 (q+1)$. Therefore, our mass terms can be written out as\n",
    "\n",
    "$$\\mu M^2 = m_1 m_2 M = m_1 m_2^2 (q+1) = m_2^3 q (q+1) = M^3 \\frac{q}{(q+1)^2}.$$\n",
    "\n",
    "Therefore, out decay timescale becomes\n",
    "\n",
    "$$t_{\\rm gw} = \\frac{5}{256}\\frac{c^5 a^4}{G^3 M^3} \\frac{(q+1)^2}{q}.$$\n",
    "\n",
    "Defining the dimensionless quantity $q_r = q/(q+1)^2$, we can write the scaling relation as\n",
    "\n",
    "$$t_{\\rm gw} = 4.88\\times 10^6~\\mathrm{yrs}~\\left(\\frac{a}{10^3~R_s}\\right)^4 \\left(\\frac{M}{10^8~M_\\odot}\\right)^{-3} q_r^{-1},$$\n",
    "\n",
    "where the Schwarzschild Radius $R_s = 2GM/c^2$ and we use the same fiducial mass of $10^8~M_\\odot$.\n",
    "\n",
    "Given your parameters above, how long will it take the system to merge?"
   ]
  },
  {
   "cell_type": "code",
   "execution_count": null,
   "metadata": {
    "collapsed": true
   },
   "outputs": [],
   "source": [
    "# Some space for you to work"
   ]
  },
  {
   "cell_type": "code",
   "execution_count": null,
   "metadata": {
    "collapsed": true
   },
   "outputs": [],
   "source": []
  },
  {
   "cell_type": "code",
   "execution_count": null,
   "metadata": {
    "collapsed": true
   },
   "outputs": [],
   "source": []
  },
  {
   "cell_type": "markdown",
   "metadata": {},
   "source": [
    "## Host Galaxy Parameters\n",
    "\n",
    "McConnell and Ma (2013) found a variety of scaling relations between various properties of a galaxy and its black hole mass. Presumably, with a single black hole after merger, the galaxy should still fall close to these relations, and so the relations should hold before the merger as well. The relations they find are\n",
    "\n",
    "The Black Hole Mass-Stellar Velocity Dispersion ($M_{\\mathrm{BH}}$-$\\sigma$) relation:\n",
    "\n",
    "$$\\log_{10}(M_{\\mathrm{BH}}) = 8.32 + 5.64 \\log_{10}\\left(\\frac{\\sigma}{200~\\mathrm{km~s^{-1}}}\\right)$$\n",
    "\n",
    "The Black Hole Mass-Luminosity (V-band) ($M_{\\mathrm{BH}}$-$L_V$) relation:\n",
    "\n",
    "$$\\log_{10}(M_{\\mathrm{BH}}) = 9.23 + 1.11 \\log_{10}\\left(\\frac{L_V}{10^{11}~L_\\odot}\\right)$$\n",
    "\n",
    "The Black Hole Mass-Bulge Stellar Mass ($M_{\\mathrm{BH}}$-$M_{\\mathrm{bulge}}$) relation:\n",
    "\n",
    "$$\\log_{10}(M_{\\mathrm{BH}}) = 8.46 + 1.05 \\log_{10}\\left(\\frac{M_{\\mathrm{bulge}}}{10^{11}~M_\\odot}\\right)$$\n",
    "\n",
    "Given your black hole mass estimate observed via gravitational waves, calculate the different values for the host galaxy."
   ]
  },
  {
   "cell_type": "code",
   "execution_count": null,
   "metadata": {
    "collapsed": true
   },
   "outputs": [],
   "source": [
    "# Some space for you to work"
   ]
  },
  {
   "cell_type": "code",
   "execution_count": null,
   "metadata": {
    "collapsed": true
   },
   "outputs": [],
   "source": []
  },
  {
   "cell_type": "code",
   "execution_count": null,
   "metadata": {
    "collapsed": true
   },
   "outputs": [],
   "source": []
  },
  {
   "cell_type": "markdown",
   "metadata": {},
   "source": [
    "Now that you are an expert, try re-running the code in the following ways and see how your answers change:\n",
    "\n",
    "* Reduce the simulated mass of the system in `observe()` to make the observed strain even weaker. How well can you do?\n",
    "* Add red noise into the `observe()` function using `LT.add_rednoise(psr,A,gamma)`. $A$ will be in GW strain amplitude units and you can vary $\\gamma$ in steepness, typically somewhere between 1 and 5. How does this affect the results? \n",
    "\n",
    "Remember: try adding more pulsars into your array if you need some additional signal boost!"
   ]
  },
  {
   "cell_type": "code",
   "execution_count": null,
   "metadata": {
    "collapsed": true
   },
   "outputs": [],
   "source": []
  }
 ],
 "metadata": {
  "kernelspec": {
   "display_name": "Python 2",
   "language": "python",
   "name": "python2"
  },
  "language_info": {
   "codemirror_mode": {
    "name": "ipython",
    "version": 2
   },
   "file_extension": ".py",
   "mimetype": "text/x-python",
   "name": "python",
   "nbconvert_exporter": "python",
   "pygments_lexer": "ipython2",
   "version": "2.7.13"
  }
 },
 "nbformat": 4,
 "nbformat_minor": 1
}
