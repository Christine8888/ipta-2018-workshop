{
 "cells": [
  {
   "cell_type": "markdown",
   "metadata": {},
   "source": [
    "# Using enterprise to analyze PTA data\n",
    "\n",
    "### Developed by Steve Taylor, Subverted by Jeff Hazboun\n",
    "\n",
    "Based on original worksheets in the IPTA GitHub [page](https:/github.com/ipta/gwa_tutorials).\n",
    "\n",
    "In this notebook you will learn:\n",
    "* How to use `enterprise` to interact with IPTA data,\n",
    "* How to setup an analysis of indiviudual pulsar noise properties,\n",
    "* How to post-process your results."
   ]
  },
  {
   "cell_type": "markdown",
   "metadata": {},
   "source": [
    "# Load modules"
   ]
  },
  {
   "cell_type": "code",
   "execution_count": null,
   "metadata": {
    "ExecuteTime": {
     "end_time": "2018-05-15T17:42:33.177433Z",
     "start_time": "2018-05-15T17:42:31.657125Z"
    }
   },
   "outputs": [],
   "source": [
    "% matplotlib inline\n",
    "%config InlineBackend.figure_format = 'retina'\n",
    "%load_ext autoreload\n",
    "%autoreload 2\n",
    "\n",
    "from __future__ import division\n",
    "\n",
    "import numpy as np\n",
    "import os, glob, json \n",
    "import matplotlib.pyplot as plt\n",
    "import scipy.linalg as sl\n",
    "\n",
    "import enterprise\n",
    "from enterprise.pulsar import Pulsar\n",
    "import enterprise.signals.parameter as parameter\n",
    "from enterprise.signals import utils\n",
    "from enterprise.signals import signal_base\n",
    "from enterprise.signals import selections\n",
    "from enterprise.signals.selections import Selection\n",
    "from enterprise.signals import white_signals\n",
    "from enterprise.signals import gp_signals\n",
    "from enterprise.signals import deterministic_signals\n",
    "import enterprise.constants as const\n",
    "\n",
    "import corner\n",
    "from PTMCMCSampler.PTMCMCSampler import PTSampler as ptmcmc"
   ]
  },
  {
   "cell_type": "markdown",
   "metadata": {},
   "source": [
    "# Single pulsar analysis"
   ]
  },
  {
   "cell_type": "markdown",
   "metadata": {
    "ExecuteTime": {
     "end_time": "2018-05-11T19:00:23.677385Z",
     "start_time": "2018-05-11T19:00:23.570716Z"
    }
   },
   "source": [
    "* `enterprise` is structured so that one first creates `parameters`, then `signals` that these `parameters` belong to, then finally a `model` that is the union of all `signals` and the `data`.\n",
    "\n",
    "* We will show this explciitly below, then introduce some model shortcut code that will make your life easier.\n",
    "* We test on the NANOGrav data for `J0613-0200`. We use NANOGrav data here to illustrate the use of `ECORR`, the white noise in pulsar timing data correlated amongst TOAs from the same observing run. "
   ]
  },
  {
   "cell_type": "markdown",
   "metadata": {},
   "source": [
    "## Load in `Pulsar` class"
   ]
  },
  {
   "cell_type": "markdown",
   "metadata": {},
   "source": [
    "* The `enterprise` Pulsar class uses `libstempo` to read in `par` and `tim` files, then stores all pulsar data into a `Pulsar` object. This object contains all data and meta-data needed for the ensuing pulsar and PTA analysis. You no longer to reference the `par` and `tim` files after this cell.\n",
    "* Note below that you can explicitly declare which version of the JPL solar-system ephemeris model that will be used to compute the Roemer delay between the geocenter and the barycenter (e.g. `DE436`). Otherwise the default values will be taken from the `par` files. Explicitly declaring the version here is good practice.\n",
    "* You can also explicitly set the clock file to a version of `BIPM`, e.g. `BIPM(2015)`. This is less important, and you can let the code take the value from the `par` file.\n",
    "* When you execute the following cell, you will get warnings like `WARNING: Could not find pulsar distance for PSR ...`. Don't worry! This is expected, and fine. Not all pulsars have well constrained distances, and will be set to `1 kpc` with a `20%` uncertainty."
   ]
  },
  {
   "cell_type": "code",
   "execution_count": null,
   "metadata": {
    "ExecuteTime": {
     "end_time": "2018-05-15T17:49:30.300840Z",
     "start_time": "2018-05-15T17:49:30.261826Z"
    },
    "collapsed": true
   },
   "outputs": [],
   "source": [
    "par = './J0613-0200_NANOGrav_11yv0.gls.par'\n",
    "tim = './J0613-0200_NANOGrav_11yv0.tim'\n",
    "psr = Pulsar(par, tim, ephem='DE436', clk=None)"
   ]
  },
  {
   "cell_type": "code",
   "execution_count": null,
   "metadata": {
    "ExecuteTime": {
     "end_time": "2018-05-15T17:49:30.750433Z",
     "start_time": "2018-05-15T17:49:30.721856Z"
    }
   },
   "outputs": [],
   "source": [
    "# find the maximum time span to set red-noise/DM-variation frequency sampling\n",
    "tmin = psr.toas.min()\n",
    "tmax = psr.toas.max()\n",
    "Tspan = np.max(tmax) - np.min(tmin)"
   ]
  },
  {
   "cell_type": "code",
   "execution_count": null,
   "metadata": {
    "ExecuteTime": {
     "end_time": "2018-05-15T17:49:31.267060Z",
     "start_time": "2018-05-15T17:49:31.239006Z"
    },
    "collapsed": true
   },
   "outputs": [],
   "source": [
    "# define selection by observing backend\n",
    "selection = selections.Selection(selections.by_backend)\n",
    "\n",
    "# special selection for ECORR only use wideband NANOGrav data\n",
    "selection2 = selections.Selection(selections.nanograv_backends)"
   ]
  },
  {
   "cell_type": "markdown",
   "metadata": {},
   "source": [
    "## Create parameters"
   ]
  },
  {
   "cell_type": "code",
   "execution_count": null,
   "metadata": {
    "ExecuteTime": {
     "end_time": "2018-05-15T18:05:15.402712Z",
     "start_time": "2018-05-15T18:05:15.370248Z"
    },
    "collapsed": true
   },
   "outputs": [],
   "source": [
    "# white noise parameters\n",
    "efac = parameter.Uniform(0.01, 10.0)\n",
    "equad = parameter.Uniform(-8.5, -5)\n",
    "ecorr = parameter.Uniform(-8.5, -5)\n",
    "# efac = parameter.Constant() \n",
    "# equad = parameter.Constant() \n",
    "# ecorr = parameter.Constant() \n",
    "\n",
    "# red noise parameters\n",
    "log10_A = parameter.Uniform(-20, -11)\n",
    "gamma = parameter.Uniform(0, 7)\n",
    "\n",
    "# dm-variation parameters\n",
    "log10_A_dm = parameter.Uniform(-20, -11)\n",
    "gamma_dm = parameter.Uniform(0, 7)"
   ]
  },
  {
   "cell_type": "markdown",
   "metadata": {},
   "source": [
    "## Create signals"
   ]
  },
  {
   "cell_type": "code",
   "execution_count": null,
   "metadata": {
    "ExecuteTime": {
     "end_time": "2018-05-15T18:05:18.620288Z",
     "start_time": "2018-05-15T18:05:18.583614Z"
    },
    "collapsed": true
   },
   "outputs": [],
   "source": [
    "# white noise\n",
    "ef = white_signals.MeasurementNoise(efac=efac, selection=selection)\n",
    "eq = white_signals.EquadNoise(log10_equad=equad, selection=selection)\n",
    "ec = white_signals.EcorrKernelNoise(log10_ecorr=ecorr, selection=selection2)\n",
    "\n",
    "# red noise (powerlaw with 30 frequencies)\n",
    "pl = utils.powerlaw(log10_A=log10_A, gamma=gamma)\n",
    "rn = gp_signals.FourierBasisGP(spectrum=pl, components=30, Tspan=Tspan)\n",
    "\n",
    "# DM-variations (powerlaw with 30 frequencies)\n",
    "dm_basis = utils.createfourierdesignmatrix_dm(nmodes=30, Tspan=Tspan)\n",
    "dm_pl = utils.powerlaw(log10_A=log10_A_dm, gamma=gamma_dm)\n",
    "dm_gp = gp_signals.BasisGP(dm_pl, dm_basis, name='dm_gp')\n",
    "\n",
    "# timing model\n",
    "tm = gp_signals.TimingModel(use_svd=True)"
   ]
  },
  {
   "cell_type": "markdown",
   "metadata": {},
   "source": [
    "## Piece the full model together"
   ]
  },
  {
   "cell_type": "code",
   "execution_count": null,
   "metadata": {
    "ExecuteTime": {
     "end_time": "2018-05-15T18:05:29.701318Z",
     "start_time": "2018-05-15T18:05:20.295739Z"
    }
   },
   "outputs": [],
   "source": [
    "# intialize a single-pulsar pta model\n",
    "models = ef + eq + ec + rn + dm_gp + tm\n",
    "    \n",
    "pta = signal_base.PTA(models(psr))"
   ]
  },
  {
   "cell_type": "code",
   "execution_count": null,
   "metadata": {
    "ExecuteTime": {
     "end_time": "2018-05-15T18:05:29.821629Z",
     "start_time": "2018-05-15T18:05:29.795298Z"
    }
   },
   "outputs": [],
   "source": [
    "pta.params"
   ]
  },
  {
   "cell_type": "markdown",
   "metadata": {},
   "source": [
    "## Draw initial sample from model parameter space"
   ]
  },
  {
   "cell_type": "code",
   "execution_count": null,
   "metadata": {
    "ExecuteTime": {
     "end_time": "2018-05-15T18:05:48.625620Z",
     "start_time": "2018-05-15T18:05:48.595761Z"
    },
    "collapsed": true
   },
   "outputs": [],
   "source": [
    "x0 = np.hstack(p.sample() for p in pta.params)\n",
    "ndim = len(x0)"
   ]
  },
  {
   "cell_type": "markdown",
   "metadata": {},
   "source": [
    "## Setup sampler (simple, with no tricks)"
   ]
  },
  {
   "cell_type": "code",
   "execution_count": null,
   "metadata": {
    "ExecuteTime": {
     "end_time": "2018-05-15T18:05:49.721570Z",
     "start_time": "2018-05-15T18:05:49.690910Z"
    },
    "collapsed": true
   },
   "outputs": [],
   "source": [
    "# initial jump covariance matrix\n",
    "cov = np.diag(np.ones(ndim) * 0.01**2) # helps to tune MCMC proposal distribution\n",
    "\n",
    "# where chains will be written to\n",
    "outdir = './chains/noise_run_{}/'.format(str(psr.name))\n",
    "\n",
    "# sampler object\n",
    "sampler = ptmcmc(ndim, pta.get_lnlikelihood, pta.get_lnprior, cov,\n",
    "                 outDir=outdir, \n",
    "                 resume=False)"
   ]
  },
  {
   "cell_type": "markdown",
   "metadata": {},
   "source": [
    "## Sample the parameter space"
   ]
  },
  {
   "cell_type": "code",
   "execution_count": null,
   "metadata": {
    "ExecuteTime": {
     "end_time": "2018-05-15T18:07:34.298903Z",
     "start_time": "2018-05-15T18:05:51.594933Z"
    }
   },
   "outputs": [],
   "source": [
    "# sampler for N steps\n",
    "N = int(1e6)\n",
    "\n",
    "# SCAM = Single Component Adaptive Metropolis\n",
    "# AM = Adaptive Metropolis\n",
    "# DE = Differential Evolution\n",
    "## You can keep all these set at default values\n",
    "sampler.sample(x0, N, SCAMweight=30, AMweight=15, DEweight=50, )"
   ]
  },
  {
   "cell_type": "markdown",
   "metadata": {},
   "source": [
    "## Simple post-processing"
   ]
  },
  {
   "cell_type": "code",
   "execution_count": null,
   "metadata": {
    "ExecuteTime": {
     "end_time": "2018-05-15T21:14:29.205383Z",
     "start_time": "2018-05-15T21:14:28.983891Z"
    },
    "collapsed": true
   },
   "outputs": [],
   "source": [
    "chain = np.loadtxt(outdir + 'chain_1.txt')\n",
    "burn = int(0.25 * chain.shape[0])"
   ]
  },
  {
   "cell_type": "code",
   "execution_count": null,
   "metadata": {
    "ExecuteTime": {
     "end_time": "2018-05-15T21:14:29.448022Z",
     "start_time": "2018-05-15T21:14:29.400142Z"
    },
    "collapsed": true
   },
   "outputs": [],
   "source": [
    "# Find column of chain file corresponding to a parameter\n",
    "ind = list(pta.param_names).index('J0613-0200_Rcvr_800_GUPPI_efac')#('J0613-0200_log10_A')"
   ]
  },
  {
   "cell_type": "code",
   "execution_count": null,
   "metadata": {
    "ExecuteTime": {
     "end_time": "2018-05-15T18:08:16.630039Z",
     "start_time": "2018-05-15T18:08:16.283915Z"
    }
   },
   "outputs": [],
   "source": [
    "# Make trace-plot to diagnose sampling\n",
    "plt.plot(chain[burn:, ind])\n",
    "plt.show()"
   ]
  },
  {
   "cell_type": "code",
   "execution_count": null,
   "metadata": {
    "ExecuteTime": {
     "end_time": "2018-05-15T18:08:17.503339Z",
     "start_time": "2018-05-15T18:08:17.323209Z"
    }
   },
   "outputs": [],
   "source": [
    "# Plot a histogram of the marginalized posterior distribution\n",
    "plt.hist(chain[burn:,ind], 50, normed=True, histtype='stepfilled', \n",
    "         lw=2, color='C0', alpha=0.5);\n",
    "plt.xlabel('J0613-0200_log10_A')\n",
    "plt.ylabel('PDF')\n",
    "plt.show()"
   ]
  },
  {
   "cell_type": "code",
   "execution_count": null,
   "metadata": {
    "ExecuteTime": {
     "end_time": "2018-05-15T18:10:43.625371Z",
     "start_time": "2018-05-15T18:10:43.252841Z"
    }
   },
   "outputs": [],
   "source": [
    "# Make 2d histogram plot\n",
    "ind_redA = list(pta.param_names).index('J0613-0200_log10_A')\n",
    "ind_redgam = list(pta.param_names).index('J0613-0200_gamma')\n",
    "fig = corner.corner(chain[burn:, [ind_redA, ind_redgam]], \n",
    "                    labels=['J0613-0200_log10_A', 'J0613-0200_gamma'],\n",
    "                   levels=[0.68,0.95]);"
   ]
  },
  {
   "cell_type": "markdown",
   "metadata": {},
   "source": [
    "__NOTE__: I am leaving the activities below in the worksheet so you see how much more easily this can be done. It's probably not worth pulling this repo right now. At this point your time is actually better spent going to the `stochastic_gwb_analysis.ipynb` to see how to do an analysis for a gravitational wave background. \n",
    "\n",
    "## Now, the easy way to do all of this\n",
    "\n",
    "Many of us have created shortcuts to carry out these tasks. You will find them in `enterprise_extensions`: https://github.com/stevertaylor/enterprise_extensions. Clone this repo, go into the cloned repo directory, then execute `pip install .`\n",
    "\n",
    "This will install the package on your local machine."
   ]
  },
  {
   "cell_type": "code",
   "execution_count": null,
   "metadata": {
    "ExecuteTime": {
     "end_time": "2018-05-15T21:14:51.711971Z",
     "start_time": "2018-05-15T21:14:51.659585Z"
    },
    "collapsed": true
   },
   "outputs": [],
   "source": [
    "import enterprise_extensions\n",
    "from enterprise_extensions import models, model_utils"
   ]
  },
  {
   "cell_type": "code",
   "execution_count": null,
   "metadata": {
    "ExecuteTime": {
     "end_time": "2018-05-15T21:15:02.109579Z",
     "start_time": "2018-05-15T21:14:51.916806Z"
    },
    "collapsed": true
   },
   "outputs": [],
   "source": [
    "# Create a single pulsar model\n",
    "pta = models.model_singlepsr_noise(psr, psd='powerlaw', \n",
    "                                   noisedict=params, \n",
    "                                   white_vary=False,\n",
    "                                   dm_var=True, \n",
    "                                   dm_psd='powerlaw', dm_annual=True)"
   ]
  },
  {
   "cell_type": "code",
   "execution_count": null,
   "metadata": {
    "ExecuteTime": {
     "end_time": "2018-05-15T21:15:20.657591Z",
     "start_time": "2018-05-15T21:15:20.614041Z"
    },
    "collapsed": true
   },
   "outputs": [],
   "source": [
    "# Setup a sampler instance.\n",
    "# This will add some fanicer stuff than before, like prior draws, \n",
    "# and custom sample groupings.\n",
    "sampler = model_utils.setup_sampler(pta, outdir=outdir, resume=False)"
   ]
  },
  {
   "cell_type": "code",
   "execution_count": null,
   "metadata": {
    "ExecuteTime": {
     "end_time": "2018-05-15T21:22:08.883008Z",
     "start_time": "2018-05-15T21:15:23.402604Z"
    },
    "collapsed": true
   },
   "outputs": [],
   "source": [
    "# sampler for N steps\n",
    "N = int(1e6)\n",
    "x0 = x0 = np.hstack(p.sample() for p in pta.params)\n",
    "\n",
    "# SCAM = Single Component Adaptive Metropolis\n",
    "# AM = Adaptive Metropolis\n",
    "# DE = Differential Evolution\n",
    "## You can keep all these set at default values\n",
    "sampler.sample(x0, N, SCAMweight=30, AMweight=15, DEweight=50, )"
   ]
  },
  {
   "cell_type": "code",
   "execution_count": null,
   "metadata": {
    "ExecuteTime": {
     "end_time": "2018-05-15T21:22:12.699593Z",
     "start_time": "2018-05-15T21:22:12.447631Z"
    },
    "collapsed": true
   },
   "outputs": [],
   "source": [
    "chain = np.loadtxt(outdir + '/chain_1.txt')\n",
    "burn = int(0.25*chain.shape[0])\n",
    "pars = np.loadtxt(outdir + '/pars.txt', dtype=np.unicode_)\n",
    "\n",
    "pp = model_utils.PostProcessing(chain, pars)"
   ]
  },
  {
   "cell_type": "code",
   "execution_count": null,
   "metadata": {
    "ExecuteTime": {
     "end_time": "2018-05-15T21:22:13.789123Z",
     "start_time": "2018-05-15T21:22:12.701917Z"
    },
    "collapsed": true
   },
   "outputs": [],
   "source": [
    "pp.plot_trace()"
   ]
  }
 ],
 "metadata": {
  "anaconda-cloud": {},
  "kernelspec": {
   "display_name": "Python 2",
   "language": "python",
   "name": "python2"
  },
  "language_info": {
   "codemirror_mode": {
    "name": "ipython",
    "version": 2
   },
   "file_extension": ".py",
   "mimetype": "text/x-python",
   "name": "python",
   "nbconvert_exporter": "python",
   "pygments_lexer": "ipython2",
   "version": "2.7.13"
  },
  "toc": {
   "nav_menu": {},
   "number_sections": true,
   "sideBar": true,
   "skip_h1_title": false,
   "toc_cell": false,
   "toc_position": {
    "height": "743px",
    "left": "0px",
    "right": "1458px",
    "top": "107px",
    "width": "212px"
   },
   "toc_section_display": "block",
   "toc_window_display": true
  }
 },
 "nbformat": 4,
 "nbformat_minor": 2
}
