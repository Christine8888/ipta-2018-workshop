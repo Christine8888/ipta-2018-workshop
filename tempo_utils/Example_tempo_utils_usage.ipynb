{
 "cells": [
  {
   "cell_type": "code",
   "execution_count": 1,
   "metadata": {
    "collapsed": true
   },
   "outputs": [],
   "source": [
    "import tempo_utils\n",
    "import numpy\n",
    "import matplotlib.pyplot as plt"
   ]
  },
  {
   "cell_type": "markdown",
   "metadata": {},
   "source": [
    "First, read in some TOAs from a tim file."
   ]
  },
  {
   "cell_type": "code",
   "execution_count": 2,
   "metadata": {
    "collapsed": true
   },
   "outputs": [],
   "source": [
    "toas = tempo_utils.read_toa_file(\"shared/tempo_utils_example/1946+2052.tim\")"
   ]
  },
  {
   "cell_type": "markdown",
   "metadata": {},
   "source": [
    "The TOA file is read into a list of TOA objects. However, tim files can contain lines that are not TOAs, for example in the tim file we just read in, the first 2 lines are not TOAs. You can view a TOA simply by printing it."
   ]
  },
  {
   "cell_type": "code",
   "execution_count": 3,
   "metadata": {},
   "outputs": [
    {
     "name": "stdout",
     "output_type": "stream",
     "text": [
      "MODE 1\n"
     ]
    }
   ],
   "source": [
    "print toas[0]"
   ]
  },
  {
   "cell_type": "markdown",
   "metadata": {},
   "source": [
    "tempo_utils provides the ability to test whether an object in the list is a valid TOA or not"
   ]
  },
  {
   "cell_type": "code",
   "execution_count": 4,
   "metadata": {},
   "outputs": [
    {
     "name": "stdout",
     "output_type": "stream",
     "text": [
      "False\n"
     ]
    }
   ],
   "source": [
    "print toas[0].is_toa()"
   ]
  },
  {
   "cell_type": "markdown",
   "metadata": {},
   "source": [
    "The minimum TOA information needed is the time-of-arrival, the telescope used to observe, the frequency, and an uncertainty for the TOA measurement. Additional information can be specified for each TOA, but we will just worry about the typical TOA parameters. To see these values for the first TOA (which is the third object in the TOA list), we can print the following."
   ]
  },
  {
   "cell_type": "code",
   "execution_count": 5,
   "metadata": {},
   "outputs": [
    {
     "name": "stdout",
     "output_type": "stream",
     "text": [
      "time-of-arrival = 57953.2271459\n",
      "frequency (MHz)= 1456.117\n",
      "TOA is from telescope with tempo code = 3\n",
      "TOA uncertainty (microseconds) = 44.753\n"
     ]
    }
   ],
   "source": [
    "print \"time-of-arrival =\",toas[2].mjd\n",
    "print \"frequency (MHz)=\",toas[2].freq\n",
    "print \"TOA is from telescope with tempo code =\",toas[2].site\n",
    "print \"TOA uncertainty (microseconds) =\",toas[2].error"
   ]
  },
  {
   "cell_type": "markdown",
   "metadata": {},
   "source": [
    "tempo_utils interacts with a par file in one of two ways. One is to open a par file when \"run_tempo\" is run, see below. The other is to have a list of strings which would be in the par file. I find this second option to be more generally useful, since it allows for easier editing of the lines. To get such a list, we can just start from an existing par file as follows."
   ]
  },
  {
   "cell_type": "code",
   "execution_count": 6,
   "metadata": {
    "collapsed": true
   },
   "outputs": [],
   "source": [
    "parlines = open(\"shared/tempo_utils_example/1946+2052_DDGR.par\").readlines()"
   ]
  },
  {
   "cell_type": "code",
   "execution_count": 7,
   "metadata": {},
   "outputs": [
    {
     "name": "stdout",
     "output_type": "stream",
     "text": [
      "['PSR              J1946+2052_DDGR\\n', 'RAJ      19:46:14.16700000\\n', 'DECJ      20:52:25.0000001\\n', 'F0     58.9616546266521837  1  0.0000000010387190\\n', 'F1     -5.148083624682D-15  1  9.195416804133D-16\\n', 'PEPOCH        57982.080242\\n', 'START            57953.226\\n', 'FINISH           58007.094\\n', 'DM               93.962745  1            0.002377\\n', 'SOLARN0              10.00\\n', 'EPHEM               DE436\\n', 'CLK                 TT(BIPM2015)                    \\n', 'UNITS               TDB\\n', 'TIMEEPH             FB90\\n', 'T2CMETHOD           TEMPO\\n', 'CORRECT_TROPOSPHERE N\\n', 'PLANET_SHAPIRO      N\\n', 'DILATEFREQ          N\\n', 'NTOA                   796\\n', 'TRES                 93.95\\n', 'TZRMJD  57982.08029684945738\\n', 'TZRFRQ            1579.782\\n', 'TZRSITE                  AO\\n', 'MODE                     1\\n', 'NITS                     1\\n', 'BINARY            DDGR    \\n', 'A1             1.154477721  1         0.000011956\\n', 'E             0.0638321181  1        0.0000078484\\n', 'T0        57953.2123969195  1        0.0000069821\\n', 'PB        0.07848804459540  1    0.00000001146482\\n', 'OM        130.395539215985  1      0.031452145233\\n', 'OMDOT           25.5625018\\n', 'GAMMA          0.000255888\\n', 'PBDOT           -1.7881571\\n', 'SINI              0.966809\\n', 'MTOT              2.498144  1            0.035299\\n', 'M2                1.228066  1            0.041206\\n', 'DTHETA           14.669811\\n', 'DR              14.0004348\\n', 'JUMP_1         0.000471148  1         0.000093835\\n', 'JUMP_2         0.000770584  1         0.000137260\\n', 'JUMP_3        -0.003059588  1         0.000139539\\n']\n"
     ]
    }
   ],
   "source": [
    "print parlines"
   ]
  },
  {
   "cell_type": "markdown",
   "metadata": {},
   "source": [
    "One we have the TOAs and the par file lines, we can have tempo_utils execute a tempo run using \"run_tempo\" as follows. This returns some information on the chi^2, number of degrees of freedom, the rms of the residuals, and the lines for a new par file from the fit."
   ]
  },
  {
   "cell_type": "code",
   "execution_count": 8,
   "metadata": {
    "collapsed": true
   },
   "outputs": [],
   "source": [
    "(base_chi2,base_ndof,base_rms,base_outparlines) = tempo_utils.run_tempo(toas,parlines, get_output_par=True)"
   ]
  },
  {
   "cell_type": "markdown",
   "metadata": {},
   "source": [
    "Let's have a look at these output parameters for this fit."
   ]
  },
  {
   "cell_type": "code",
   "execution_count": 9,
   "metadata": {},
   "outputs": [
    {
     "name": "stdout",
     "output_type": "stream",
     "text": [
      "1343.87\n"
     ]
    }
   ],
   "source": [
    "print base_chi2"
   ]
  },
  {
   "cell_type": "code",
   "execution_count": 10,
   "metadata": {},
   "outputs": [
    {
     "name": "stdout",
     "output_type": "stream",
     "text": [
      "782.0\n"
     ]
    }
   ],
   "source": [
    "print base_ndof"
   ]
  },
  {
   "cell_type": "code",
   "execution_count": 11,
   "metadata": {},
   "outputs": [
    {
     "name": "stdout",
     "output_type": "stream",
     "text": [
      "93.952\n"
     ]
    }
   ],
   "source": [
    "print base_rms"
   ]
  },
  {
   "cell_type": "code",
   "execution_count": 12,
   "metadata": {},
   "outputs": [
    {
     "name": "stdout",
     "output_type": "stream",
     "text": [
      "['PSR              J1946+2052_DDGR\\n', 'RAJ      19:46:14.16700000\\n', 'DECJ      20:52:25.0000001\\n', 'F0     58.9616546266525177  1  0.0000000010386985\\n', 'F1     -5.147976446553D-15  1  9.200320706447D-16\\n', 'PEPOCH        57982.080242\\n', 'START            57953.226\\n', 'FINISH           58007.094\\n', 'DM               93.962746  1            0.002377\\n', 'SOLARN0              10.00\\n', 'EPHEM               DE436\\n', 'CLK                 TT(BIPM2015)                    \\n', 'UNITS               TDB\\n', 'TIMEEPH             FB90\\n', 'T2CMETHOD           TEMPO\\n', 'CORRECT_TROPOSPHERE N\\n', 'PLANET_SHAPIRO      N\\n', 'DILATEFREQ          N\\n', 'NTOA                   796\\n', 'TRES                 93.95\\n', 'TZRMJD  57982.08029684945619\\n', 'TZRFRQ            1579.782\\n', 'TZRSITE                  AO\\n', 'MODE                     1\\n', 'NITS                     1\\n', 'BINARY            DDGR    \\n', 'A1             1.154478423  1         0.000017214\\n', 'E             0.0638321264  1        0.0000080973\\n', 'T0        57953.2123969067  1        0.0000069934\\n', 'PB        0.07848804461013  1    0.00000001151523\\n', 'OM        130.395517510337  1      0.031557494394\\n', 'OMDOT           25.5628044\\n', 'GAMMA          0.000256866\\n', 'PBDOT           -1.7883652\\n', 'SINI              0.964045\\n', 'MTOT              2.498188  1            0.035453\\n', 'M2                1.231602  1            0.066252\\n', 'DTHETA           14.627154\\n', 'DR              13.9724843\\n']\n"
     ]
    }
   ],
   "source": [
    "print base_outparlines"
   ]
  },
  {
   "cell_type": "markdown",
   "metadata": {},
   "source": [
    "We can calculate the reduce chi^2 easily enough by dividing the chi^2 by the number of degrees of freedom."
   ]
  },
  {
   "cell_type": "code",
   "execution_count": 13,
   "metadata": {},
   "outputs": [
    {
     "name": "stdout",
     "output_type": "stream",
     "text": [
      "1.71850383632\n"
     ]
    }
   ],
   "source": [
    "print base_chi2/base_ndof"
   ]
  },
  {
   "cell_type": "markdown",
   "metadata": {},
   "source": [
    "Now let's go through a particular example for a situation where tempo_utils is useful. In this case, we have a double neutron star system for which we have had a clear detection of the advance in periastron passage (omega dot) which tells us the total mass of the system. A useful binary model that exists in TEMPO for such systems is the DDGR model which fits for the total mass and the mass of the companion and assumes GR is correct to calculate a variety of effects that might be measurable. In the par file above, it tells us that the companion mass (M2) has been measured to be 1.23(7) solar masses. However, tempo does not give accurate error measurements in some cases as we demonstrate below. We will grid over a range of MTOT and M2 values and calculate chi^2 using tempo. Note that we are not fitting for these two parameters, but instead are just setting them and getting chi^2. The following loop will take a few minutes to get the chi^2 values."
   ]
  },
  {
   "cell_type": "code",
   "execution_count": 16,
   "metadata": {},
   "outputs": [
    {
     "name": "stdout",
     "output_type": "stream",
     "text": [
      "2.45\n",
      "2.455\n",
      "2.46\n",
      "2.465\n",
      "2.47\n",
      "2.475\n",
      "2.48\n",
      "2.485\n",
      "2.49\n",
      "2.495\n",
      "2.5\n",
      "2.505\n",
      "2.51\n",
      "2.515\n",
      "2.52\n",
      "2.525\n",
      "2.53\n"
     ]
    }
   ],
   "source": [
    "chi2map = []\n",
    "m2s = numpy.arange(1.2,1.6,0.005)\n",
    "mtots = numpy.arange(2.450,2.535,0.005)\n",
    "for mtot in mtots:\n",
    "    rowofchi2s = []\n",
    "    print mtot\n",
    "    for m2 in m2s:\n",
    "        #Remove the current MTOT and M2 lines from the par lines.\n",
    "        parlines = [l for l in parlines if not l.startswith(\"MTOT\")]\n",
    "        parlines = [l for l in parlines if not l.startswith(\"M2\")]\n",
    "        #Insert the new MTOT and M2 values\n",
    "        parlines.append('MTOT %f 0\\n' % mtot)\n",
    "        parlines.append('M2 %f 0\\n' % m2)\n",
    "        (new_chi2,new_ndof,new_rms,new_outparlines) = tempo_utils.run_tempo(toas,parlines, get_output_par=True)\n",
    "#        print mtot,m2,new_chi2\n",
    "        rowofchi2s.append(new_chi2)\n",
    "    chi2map.append(rowofchi2s)"
   ]
  },
  {
   "cell_type": "markdown",
   "metadata": {},
   "source": [
    "Convert the chi^2 values to be a numpy array."
   ]
  },
  {
   "cell_type": "code",
   "execution_count": 17,
   "metadata": {
    "collapsed": true
   },
   "outputs": [],
   "source": [
    "chi2map_np = numpy.array(chi2map)"
   ]
  },
  {
   "cell_type": "markdown",
   "metadata": {},
   "source": [
    "Change the values of the chi^2 values mostly for plotting purposes."
   ]
  },
  {
   "cell_type": "code",
   "execution_count": 18,
   "metadata": {},
   "outputs": [],
   "source": [
    "newchi2map = 1.0/(numpy.exp(chi2map_np - base_chi2))"
   ]
  },
  {
   "cell_type": "markdown",
   "metadata": {},
   "source": [
    "Now let's look at the plot, note how asymmetric the chi^2 is in M2, this means that the tempo returned error for M2 is not accurate."
   ]
  },
  {
   "cell_type": "code",
   "execution_count": 19,
   "metadata": {},
   "outputs": [
    {
     "data": {
      "text/plain": [
       "<matplotlib.text.Text at 0x7f04248f4250>"
      ]
     },
     "execution_count": 19,
     "metadata": {},
     "output_type": "execute_result"
    }
   ],
   "source": [
    "plt.pcolormesh(m2s,mtots,newchi2map)\n",
    "plt.ylabel(\"MTOT\")\n",
    "plt.xlabel(\"M2\")"
   ]
  },
  {
   "cell_type": "code",
   "execution_count": 20,
   "metadata": {},
   "outputs": [
    {
     "data": {
      "image/png": "[encoded data removed]",
      "text/plain": [
       "<matplotlib.figure.Figure at 0x7f04248f1ad0>"
      ]
     },
     "metadata": {},
     "output_type": "display_data"
    }
   ],
   "source": [
    "plt.show()"
   ]
  },
  {
   "cell_type": "code",
   "execution_count": 21,
   "metadata": {},
   "outputs": [
    {
     "data": {
      "text/plain": [
       "[<matplotlib.lines.Line2D at 0x7f04246e73d0>]"
      ]
     },
     "execution_count": 21,
     "metadata": {},
     "output_type": "execute_result"
    }
   ],
   "source": [
    "plt.plot(newchi2map[9])"
   ]
  },
  {
   "cell_type": "code",
   "execution_count": 22,
   "metadata": {},
   "outputs": [
    {
     "data": {
      "image/png": "[encoded data removed]",
      "text/plain": [
       "<matplotlib.figure.Figure at 0x7f04247adc10>"
      ]
     },
     "metadata": {},
     "output_type": "display_data"
    }
   ],
   "source": [
    "plt.show()"
   ]
  },
  {
   "cell_type": "code",
   "execution_count": null,
   "metadata": {
    "collapsed": true
   },
   "outputs": [],
   "source": []
  }
 ],
 "metadata": {
  "kernelspec": {
   "display_name": "Python 2",
   "language": "python",
   "name": "python2"
  },
  "language_info": {
   "codemirror_mode": {
    "name": "ipython",
    "version": 2
   },
   "file_extension": ".py",
   "mimetype": "text/x-python",
   "name": "python",
   "nbconvert_exporter": "python",
   "pygments_lexer": "ipython2",
   "version": "2.7.13"
  }
 },
 "nbformat": 4,
 "nbformat_minor": 2
}
